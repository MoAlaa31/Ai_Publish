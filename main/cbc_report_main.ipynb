{
 "cells": [
  {
   "cell_type": "code",
   "execution_count": null,
   "metadata": {},
   "outputs": [],
   "source": [
    "import sys\n",
    "#sys.path.append('D:/final_year_project/gitBackup/src')  # or wherever your src folder is\n",
    "import os\n",
    "sys.path.append(os.path.abspath(r'E:/Projects/cbc_repeort/src'))"
   ]
  },
  {
   "cell_type": "code",
   "execution_count": 2,
   "metadata": {},
   "outputs": [],
   "source": [
    "import re # for data cleaning and extraction\n",
    "import pandas as pd  #\n",
    "import pypdf # for reading pdfs"
   ]
  },
  {
   "cell_type": "code",
   "execution_count": 19,
   "metadata": {},
   "outputs": [],
   "source": [
    "import joblib\n",
    "\n",
    "# Load the saved model\n",
    "model = joblib.load('decision_tree_model.pkl')"
   ]
  },
  {
   "cell_type": "code",
   "execution_count": null,
   "metadata": {},
   "outputs": [],
   "source": [
    "# from src.image_processing import*\n",
    "from image_processing import *\n",
    "from extract_values import *\n",
    "from text_processing import *\n",
    "#from src.__init__ import*\n"
   ]
  },
  {
   "cell_type": "code",
   "execution_count": null,
   "metadata": {},
   "outputs": [],
   "source": [
    "image_path = r\"C:/Users/ASUS/Downloads/IMG_20250416_181949.jpg\" # replace with right image path\n",
    "pdf_path = r\"\" # replace with right pdf path\n",
    "txt_path = r\"\" # replace with right txt path"
   ]
  },
  {
   "cell_type": "code",
   "execution_count": null,
   "metadata": {},
   "outputs": [],
   "source": [
    "clean_txt = clean_extracted_text_img(image_path)"
   ]
  },
  {
   "cell_type": "code",
   "execution_count": null,
   "metadata": {},
   "outputs": [],
   "source": [
    "#clean_txt = clean_extracted_text_pdf(pdf_path)"
   ]
  },
  {
   "cell_type": "code",
   "execution_count": null,
   "metadata": {},
   "outputs": [],
   "source": [
    "#clean_txt = clean_extracted_text_txt(txt_path)"
   ]
  },
  {
   "cell_type": "code",
   "execution_count": 33,
   "metadata": {},
   "outputs": [],
   "source": [
    "df = extract_medical_data_from_full_blood_test(clean_txt)"
   ]
  },
  {
   "cell_type": "code",
   "execution_count": 34,
   "metadata": {},
   "outputs": [],
   "source": [
    "df_wide = df.set_index('Parameter')['Value'].transpose().to_frame().T\n",
    "\n",
    "# Optionally reset column names if you want cleaner formatting\n",
    "df_wide.columns.name = None\n",
    "\n",
    "# View the result\n",
    "# print(df_wide)"
   ]
  },
  {
   "cell_type": "code",
   "execution_count": 35,
   "metadata": {},
   "outputs": [
    {
     "name": "stdout",
     "output_type": "stream",
     "text": [
      "Predicted Result: [0 0 0 0]\n"
     ]
    }
   ],
   "source": [
    "# Get the model's prediction\n",
    "prediction = model.predict(df_wide)\n",
    "\n",
    "# Print the result\n",
    "print(\"Predicted Result:\", prediction[0])"
   ]
  },
  {
   "cell_type": "code",
   "execution_count": 36,
   "metadata": {},
   "outputs": [
    {
     "name": "stdout",
     "output_type": "stream",
     "text": [
      "Predicted Conditions: ['normal']\n"
     ]
    }
   ],
   "source": [
    "# Define label mapping\n",
    "label_mapping = [\"anemic\", \"infection\", \"autoimmune disease\", \"injury\"]\n",
    "\n",
    "# Get predicted labels\n",
    "predicted_labels = [\n",
    "    label_mapping[i] for i in range(len(prediction[0])) if prediction[0][i] == 1\n",
    "] or [\"normal\"]\n",
    "print(\"Predicted Conditions:\", predicted_labels)"
   ]
  }
 ],
 "metadata": {
  "kernelspec": {
   "display_name": "base",
   "language": "python",
   "name": "python3"
  },
  "language_info": {
   "codemirror_mode": {
    "name": "ipython",
    "version": 3
   },
   "file_extension": ".py",
   "mimetype": "text/x-python",
   "name": "python",
   "nbconvert_exporter": "python",
   "pygments_lexer": "ipython3",
   "version": "3.12.1"
  }
 },
 "nbformat": 4,
 "nbformat_minor": 2
}
